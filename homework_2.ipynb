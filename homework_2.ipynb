{
 "cells": [
  {
   "cell_type": "code",
   "execution_count": 1,
   "metadata": {
    "collapsed": true
   },
   "outputs": [],
   "source": [
    "def reverseComplement(t):\n",
    "    translation={'A':'T', 'T':'A', 'G': 'C', 'C':'G'}\n",
    "    revcom=''\n",
    "    for i in range(len(t)):\n",
    "        revcom=translation[t[i]]+revcom\n",
    "    return revcom"
   ]
  },
  {
   "cell_type": "code",
   "execution_count": 2,
   "metadata": {
    "collapsed": true
   },
   "outputs": [],
   "source": [
    "def readFastq(filename):\n",
    "    sequences=[]\n",
    "    qualities=[]\n",
    "    with open(filename,'r') as fh:\n",
    "        while True:\n",
    "            fh.readline()\n",
    "            seq=fh.readline().rstrip()\n",
    "            fh.readline()\n",
    "            qual=fh.readline().rstrip()\n",
    "            if len(seq)==0:\n",
    "                break\n",
    "            sequences.append(seq)\n",
    "            qualities.append(qual)\n",
    "    return sequences, qualities "
   ]
  },
  {
   "cell_type": "code",
   "execution_count": 3,
   "metadata": {
    "collapsed": true
   },
   "outputs": [],
   "source": [
    "def readGenome(filename):\n",
    "    genome=''\n",
    "    with open(filename,'r') as fh:\n",
    "        for line in fh:\n",
    "            if not line[0]=='>':\n",
    "                genome += line.rstrip()\n",
    "    return genome\n",
    "            "
   ]
  },
  {
   "cell_type": "code",
   "execution_count": 16,
   "metadata": {
    "collapsed": true
   },
   "outputs": [],
   "source": [
    "def naive_with_counts(p,t):\n",
    "    hits=[]\n",
    "    alignments_tried=0\n",
    "    char_comparisons=0\n",
    "    for i in range(len(t)-len(p)+1):\n",
    "        alignments_tried+=1\n",
    "        match_F=True    \n",
    "        #check forward\n",
    "        for j in range (len(p)):\n",
    "            char_comparisons+=1\n",
    "            if not t[i+j]==p[j]:\n",
    "                match_F=False\n",
    "                break\n",
    "        if match_F: \n",
    "            hits.append(i)\n",
    "    return hits, alignments_tried, char_comparisons"
   ]
  },
  {
   "cell_type": "code",
   "execution_count": 5,
   "metadata": {
    "collapsed": true
   },
   "outputs": [],
   "source": [
    "chr1=readGenome('chr1.GRCh38.excerpt.fasta') #load genome"
   ]
  },
  {
   "cell_type": "code",
   "execution_count": 17,
   "metadata": {
    "collapsed": true
   },
   "outputs": [],
   "source": [
    "p = 'word'\n",
    "t = 'there would have been a time for such a word'\n",
    " "
   ]
  },
  {
   "cell_type": "code",
   "execution_count": 7,
   "metadata": {
    "collapsed": false
   },
   "outputs": [
    {
     "ename": "NameError",
     "evalue": "name 'A' is not defined",
     "output_type": "error",
     "traceback": [
      "\u001b[0;31m---------------------------------------------------------------------------\u001b[0m",
      "\u001b[0;31mNameError\u001b[0m                                 Traceback (most recent call last)",
      "\u001b[0;32m<ipython-input-7-bf072e911907>\u001b[0m in \u001b[0;36m<module>\u001b[0;34m()\u001b[0m\n\u001b[0;32m----> 1\u001b[0;31m \u001b[0mA\u001b[0m\u001b[0;34m\u001b[0m\u001b[0m\n\u001b[0m",
      "\u001b[0;31mNameError\u001b[0m: name 'A' is not defined"
     ]
    }
   ],
   "source": []
  },
  {
   "cell_type": "code",
   "execution_count": 18,
   "metadata": {
    "collapsed": false
   },
   "outputs": [
    {
     "name": "stdout",
     "output_type": "stream",
     "text": [
      "([40], 41, 46)\n"
     ]
    }
   ],
   "source": [
    "occurrences, num_alignments, num_character_comparisons = naive_with_counts(p, t)\n",
    "print(occurrences, num_alignments, num_character_comparisons)"
   ]
  },
  {
   "cell_type": "code",
   "execution_count": 19,
   "metadata": {
    "collapsed": false
   },
   "outputs": [
    {
     "name": "stdout",
     "output_type": "stream",
     "text": [
      "([0, 19], 20, 35)\n"
     ]
    }
   ],
   "source": [
    "p = 'needle'\n",
    "t = 'needle need noodle needle'\n",
    "occurrences, num_alignments, num_character_comparisons = naive_with_counts(p, t)\n",
    "print(occurrences, num_alignments, num_character_comparisons)"
   ]
  },
  {
   "cell_type": "code",
   "execution_count": 20,
   "metadata": {
    "collapsed": true
   },
   "outputs": [],
   "source": [
    "import bm_preproc"
   ]
  },
  {
   "cell_type": "code",
   "execution_count": 21,
   "metadata": {
    "collapsed": true
   },
   "outputs": [],
   "source": [
    "def boyer_moore(p,p_bm,t):\n",
    "    \"\"\"Do Boyer-Moore matching. p=pattern, t=text, p_bm=BoyerMoore object for p\"\"\"\n",
    "    i=0\n",
    "    occurrences=[]\n",
    "    while i < len (t) - len(p) + 1:\n",
    "        shift = 1\n",
    "        mismatched = False\n",
    "        for j in range (len(p)-1, -1, -1):\n",
    "            if p[j] != t[i+j]:\n",
    "                skip_bc = p_bm.bad_character_rule(j, t[i+j])\n",
    "                skip_gs = p_bm.good_suffix_rule(j)\n",
    "                shift = max(skip_bc, skip_gs, shift)\n",
    "                mismatched=True\n",
    "                break\n",
    "        if not mismatched:\n",
    "            occurrences.append(i)\n",
    "            skip_gs=p_bm.match_skip()\n",
    "            shift=max(shift,skip_gs)\n",
    "        i += shift\n",
    "    return occurrences\n",
    "                "
   ]
  },
  {
   "cell_type": "code",
   "execution_count": 29,
   "metadata": {
    "collapsed": true
   },
   "outputs": [],
   "source": [
    "def boyer_moore_with_counts(p,p_bm,t):\n",
    "    \"\"\"Do Boyer-Moore matching. p=pattern, t=text, p_bm=BoyerMoore object for p\"\"\"\n",
    "    i=0\n",
    "    occurrences = []\n",
    "    num_alignments = 0\n",
    "    num_character_comparisons = 0\n",
    "    while i < len (t) - len(p) + 1:\n",
    "        shift = 1\n",
    "        mismatched = False\n",
    "        num_alignments += 1\n",
    "        for j in range (len(p)-1, -1, -1):\n",
    "            num_character_comparisons += 1\n",
    "            if p[j] != t[i+j]:\n",
    "                skip_bc = p_bm.bad_character_rule(j, t[i+j])\n",
    "                skip_gs = p_bm.good_suffix_rule(j)\n",
    "                shift = max(skip_bc, skip_gs, shift)\n",
    "                mismatched=True\n",
    "                break\n",
    "        if not mismatched:\n",
    "            occurrences.append(i)\n",
    "            skip_gs=p_bm.match_skip()\n",
    "            shift=max(shift,skip_gs)\n",
    "        i += shift\n",
    "    return occurrences, num_alignments, num_character_comparisons"
   ]
  },
  {
   "cell_type": "code",
   "execution_count": 31,
   "metadata": {
    "collapsed": false
   },
   "outputs": [
    {
     "name": "stdout",
     "output_type": "stream",
     "text": [
      "([40], 41, 46)\n"
     ]
    },
    {
     "data": {
      "text/plain": [
       "([40], 12, 15)"
      ]
     },
     "execution_count": 31,
     "metadata": {},
     "output_type": "execute_result"
    }
   ],
   "source": [
    "p = 'word'\n",
    "t = 'there would have been a time for such a word'\n",
    "occurrences, num_alignments, num_character_comparisons = naive_with_counts(p, t)\n",
    "print(occurrences, num_alignments, num_character_comparisons)\n",
    "\n",
    "lowercase_alphabet = 'abcdefghijklmnopqrstuvwxyz '\n",
    "p_bm = bm_preproc.BoyerMoore(p, alphabet=lowercase_alphabet)\n",
    "boyer_moore_with_counts(p,p_bm,t)"
   ]
  },
  {
   "cell_type": "code",
   "execution_count": 32,
   "metadata": {
    "collapsed": true
   },
   "outputs": [],
   "source": [
    "t=chr1"
   ]
  },
  {
   "cell_type": "code",
   "execution_count": 33,
   "metadata": {
    "collapsed": true
   },
   "outputs": [],
   "source": [
    "p='GGCGCGGTGGCTCACGCCTGTAATCCCAGCACTTTGGGAGGCCGAGG'"
   ]
  },
  {
   "cell_type": "code",
   "execution_count": 34,
   "metadata": {
    "collapsed": false
   },
   "outputs": [
    {
     "data": {
      "text/plain": [
       "([56922], 127974, 165191)"
      ]
     },
     "execution_count": 34,
     "metadata": {},
     "output_type": "execute_result"
    }
   ],
   "source": [
    "p_bm = bm_preproc.BoyerMoore(p) #Q3\n",
    "boyer_moore_with_counts(p,p_bm,t)"
   ]
  },
  {
   "cell_type": "code",
   "execution_count": 35,
   "metadata": {
    "collapsed": false
   },
   "outputs": [
    {
     "data": {
      "text/plain": [
       "([56922], 799954, 984143)"
      ]
     },
     "execution_count": 35,
     "metadata": {},
     "output_type": "execute_result"
    }
   ],
   "source": [
    "naive_with_counts(p,t) #Q1, Q2"
   ]
  },
  {
   "cell_type": "code",
   "execution_count": 144,
   "metadata": {
    "collapsed": true
   },
   "outputs": [],
   "source": [
    "import bisect\n",
    "\n",
    "\n",
    "class Index(object):\n",
    "    def __init__(self, t, k):\n",
    "        self.k=k\n",
    "        self.index=[]\n",
    "        for i in range(len(t)-k+1):\n",
    "            self.index.append((t[i:i+k], i))\n",
    "        self.index.sort()\n",
    "    \n",
    "    def query(self, p):\n",
    "        kmer=p[:self.k]\n",
    "        #print kmer\n",
    "        i=bisect.bisect_left(self.index, (kmer, -1))\n",
    "        hits=[]\n",
    "        #print i\n",
    "        while i < len(self.index):\n",
    "            if self.index[i][0] != kmer:\n",
    "                \n",
    "                break\n",
    "            hits.append(self.index[i][1]) #appends the position of the kmer hit in the index\n",
    "            i += 1\n",
    "        return hits\n",
    "    "
   ]
  },
  {
   "cell_type": "code",
   "execution_count": 145,
   "metadata": {
    "collapsed": false
   },
   "outputs": [
    {
     "data": {
      "text/plain": [
       "5"
      ]
     },
     "execution_count": 145,
     "metadata": {},
     "output_type": "execute_result"
    }
   ],
   "source": [
    "l=[1,2,3,3,3,4,5,6]\n",
    "bisect.bisect_right(l,3)"
   ]
  },
  {
   "cell_type": "code",
   "execution_count": 146,
   "metadata": {
    "collapsed": false
   },
   "outputs": [
    {
     "data": {
      "text/plain": [
       "[0, 1, 2]"
      ]
     },
     "execution_count": 146,
     "metadata": {},
     "output_type": "execute_result"
    }
   ],
   "source": [
    "range(3)"
   ]
  },
  {
   "cell_type": "code",
   "execution_count": 147,
   "metadata": {
    "collapsed": true
   },
   "outputs": [],
   "source": [
    "genome=chr1\n",
    "genome_index=Index(chr1, 8)"
   ]
  },
  {
   "cell_type": "code",
   "execution_count": 162,
   "metadata": {
    "collapsed": false
   },
   "outputs": [],
   "source": [
    "def pigeon_hole(p, index, genome, mm=2):\n",
    "    pmer=[] #creates list n of kmers from the pattern\n",
    "    n=3\n",
    "    k=8\n",
    "    results={}\n",
    "    total_hits=0\n",
    "    for i in range (n):\n",
    "        pmer=p[i*k : i*k+k]\n",
    "        #print pmer\n",
    "    #now check if there are matches in the indext\n",
    "        hits=index.query(pmer)\n",
    "        total_hits+=len(hits)\n",
    "        #extend if there are hits\n",
    "        if len(hits)>0:\n",
    "            for hit in hits:\n",
    "                start=hit-(i*k) #calculates the predicted start of the match\n",
    "                match=True\n",
    "                if start >= 0 and start not in results.keys(): #makes sure the start is legal and a match at that start has not been found yet \n",
    "                    mismatches=0\n",
    "                    for j in range(len(p)):\n",
    "                        if p[j] != genome[start+j]:\n",
    "                            mismatches+=1\n",
    "                        if mismatches > mm:\n",
    "                            match=False\n",
    "                            break\n",
    "                    if match:\n",
    "                        results[start]=(mismatches, genome[start: start+len(p)])\n",
    "    return results,total_hits\n",
    "                        \n",
    "                    \n",
    "    \n"
   ]
  },
  {
   "cell_type": "code",
   "execution_count": 150,
   "metadata": {
    "collapsed": false
   },
   "outputs": [],
   "source": [
    "hits=pigeon_hole('GGCGCGGTGGCTCACGCCTGTAAT', genome_index, genome, mm=2)"
   ]
  },
  {
   "cell_type": "code",
   "execution_count": 151,
   "metadata": {
    "collapsed": false
   },
   "outputs": [
    {
     "data": {
      "text/plain": [
       "{56922: (0, 'GGCGCGGTGGCTCACGCCTGTAAT'),\n",
       " 84641: (1, 'GGCGCGGTGGCTCATGCCTGTAAT'),\n",
       " 147558: (1, 'GGCGCGGTGGCTCATGCCTGTAAT'),\n",
       " 160162: (2, 'GGCACGGTGGCTCACGCATGTAAT'),\n",
       " 160729: (1, 'GGCGCGGTGGCTCACACCTGTAAT'),\n",
       " 191452: (1, 'GGCGCGGTGGTTCACGCCTGTAAT'),\n",
       " 262042: (0, 'GGCGCGGTGGCTCACGCCTGTAAT'),\n",
       " 273669: (1, 'GGTGCGGTGGCTCACGCCTGTAAT'),\n",
       " 364263: (0, 'GGCGCGGTGGCTCACGCCTGTAAT'),\n",
       " 421221: (2, 'GGCGCAATGGCTCACGCCTGTAAT'),\n",
       " 429299: (1, 'AGCGCGGTGGCTCACGCCTGTAAT'),\n",
       " 465647: (1, 'GGCGCAGTGGCTCACGCCTGTAAT'),\n",
       " 551134: (2, 'GGGCCGGTGGCTCACGCCTGTAAT'),\n",
       " 635931: (2, 'GGTGCGGTGGCTCATGCCTGTAAT'),\n",
       " 657496: (0, 'GGCGCGGTGGCTCACGCCTGTAAT'),\n",
       " 681737: (1, 'GGCGCGGTGGCTCATGCCTGTAAT'),\n",
       " 717706: (0, 'GGCGCGGTGGCTCACGCCTGTAAT'),\n",
       " 724927: (1, 'GGCACGGTGGCTCACGCCTGTAAT'),\n",
       " 747359: (2, 'GGCGTGGTGGTTCACGCCTGTAAT')}"
      ]
     },
     "execution_count": 151,
     "metadata": {},
     "output_type": "execute_result"
    }
   ],
   "source": [
    "hits"
   ]
  },
  {
   "cell_type": "code",
   "execution_count": 153,
   "metadata": {
    "collapsed": false
   },
   "outputs": [
    {
     "data": {
      "text/plain": [
       "19"
      ]
     },
     "execution_count": 153,
     "metadata": {},
     "output_type": "execute_result"
    }
   ],
   "source": [
    "len(hits.keys()) #Q4"
   ]
  },
  {
   "cell_type": "code",
   "execution_count": 132,
   "metadata": {
    "collapsed": false
   },
   "outputs": [
    {
     "ename": "TypeError",
     "evalue": "'list' object is not callable",
     "output_type": "error",
     "traceback": [
      "\u001b[0;31m---------------------------------------------------------------------------\u001b[0m",
      "\u001b[0;31mTypeError\u001b[0m                                 Traceback (most recent call last)",
      "\u001b[0;32m<ipython-input-132-0c6a51b4e183>\u001b[0m in \u001b[0;36m<module>\u001b[0;34m()\u001b[0m\n\u001b[0;32m----> 1\u001b[0;31m \u001b[0mgenome_index\u001b[0m\u001b[0;34m.\u001b[0m\u001b[0mindex\u001b[0m\u001b[0;34m[\u001b[0m\u001b[0;36m1\u001b[0m\u001b[0;34m:\u001b[0m\u001b[0;36m10\u001b[0m\u001b[0;34m]\u001b[0m\u001b[0;34m(\u001b[0m\u001b[0;36m1\u001b[0m\u001b[0;34m)\u001b[0m\u001b[0;34m\u001b[0m\u001b[0m\n\u001b[0m",
      "\u001b[0;31mTypeError\u001b[0m: 'list' object is not callable"
     ]
    }
   ],
   "source": [
    "genome_index.index[1:10]"
   ]
  },
  {
   "cell_type": "code",
   "execution_count": 154,
   "metadata": {
    "collapsed": true
   },
   "outputs": [],
   "source": [
    "def naive_approximate(p,t,m):\n",
    "    hits=[]\n",
    "    for i in range(len(t)-len(p)+1):\n",
    "        match=True   \n",
    "        mm=0\n",
    "        #check forward\n",
    "        for j in range (len(p)):\n",
    "            if not t[i+j]==p[j]:\n",
    "                mm+=1\n",
    "                if mm > m:\n",
    "                    match=False\n",
    "                    break\n",
    "        if match: \n",
    "            hits.append(i)\n",
    "    return hits"
   ]
  },
  {
   "cell_type": "code",
   "execution_count": 157,
   "metadata": {
    "collapsed": false
   },
   "outputs": [
    {
     "data": {
      "text/plain": [
       "19"
      ]
     },
     "execution_count": 157,
     "metadata": {},
     "output_type": "execute_result"
    }
   ],
   "source": [
    "len(naive_approximate('GGCGCGGTGGCTCACGCCTGTAAT', genome, 2)) #check Q4"
   ]
  },
  {
   "cell_type": "code",
   "execution_count": 158,
   "metadata": {
    "collapsed": false
   },
   "outputs": [],
   "source": [
    "p='GGCGCGGTGGCTCACGCCTGTAAT'"
   ]
  },
  {
   "cell_type": "code",
   "execution_count": 163,
   "metadata": {
    "collapsed": true
   },
   "outputs": [],
   "source": [
    "hits, total_hits=pigeon_hole(p, genome_index, genome, mm=2)"
   ]
  },
  {
   "cell_type": "code",
   "execution_count": 164,
   "metadata": {
    "collapsed": false
   },
   "outputs": [
    {
     "data": {
      "text/plain": [
       "{56922: (0, 'GGCGCGGTGGCTCACGCCTGTAAT'),\n",
       " 84641: (1, 'GGCGCGGTGGCTCATGCCTGTAAT'),\n",
       " 147558: (1, 'GGCGCGGTGGCTCATGCCTGTAAT'),\n",
       " 160162: (2, 'GGCACGGTGGCTCACGCATGTAAT'),\n",
       " 160729: (1, 'GGCGCGGTGGCTCACACCTGTAAT'),\n",
       " 191452: (1, 'GGCGCGGTGGTTCACGCCTGTAAT'),\n",
       " 262042: (0, 'GGCGCGGTGGCTCACGCCTGTAAT'),\n",
       " 273669: (1, 'GGTGCGGTGGCTCACGCCTGTAAT'),\n",
       " 364263: (0, 'GGCGCGGTGGCTCACGCCTGTAAT'),\n",
       " 421221: (2, 'GGCGCAATGGCTCACGCCTGTAAT'),\n",
       " 429299: (1, 'AGCGCGGTGGCTCACGCCTGTAAT'),\n",
       " 465647: (1, 'GGCGCAGTGGCTCACGCCTGTAAT'),\n",
       " 551134: (2, 'GGGCCGGTGGCTCACGCCTGTAAT'),\n",
       " 635931: (2, 'GGTGCGGTGGCTCATGCCTGTAAT'),\n",
       " 657496: (0, 'GGCGCGGTGGCTCACGCCTGTAAT'),\n",
       " 681737: (1, 'GGCGCGGTGGCTCATGCCTGTAAT'),\n",
       " 717706: (0, 'GGCGCGGTGGCTCACGCCTGTAAT'),\n",
       " 724927: (1, 'GGCACGGTGGCTCACGCCTGTAAT'),\n",
       " 747359: (2, 'GGCGTGGTGGTTCACGCCTGTAAT')}"
      ]
     },
     "execution_count": 164,
     "metadata": {},
     "output_type": "execute_result"
    }
   ],
   "source": [
    "hits"
   ]
  },
  {
   "cell_type": "code",
   "execution_count": 165,
   "metadata": {
    "collapsed": false
   },
   "outputs": [
    {
     "data": {
      "text/plain": [
       "90"
      ]
     },
     "execution_count": 165,
     "metadata": {},
     "output_type": "execute_result"
    }
   ],
   "source": [
    "total_hits"
   ]
  },
  {
   "cell_type": "code",
   "execution_count": 177,
   "metadata": {
    "collapsed": true
   },
   "outputs": [],
   "source": [
    "def naive(p,t):\n",
    "    hits=[]\n",
    "    for i in range(len(t)-len(p)+1):\n",
    "        match_F=True    \n",
    "        #check forward\n",
    "        for j in range (len(p)):\n",
    "            if not t[i+j]==p[j]:\n",
    "                match_F=False\n",
    "                break\n",
    "        #check reverse\n",
    "        if match_F : \n",
    "            hits.append(i)\n",
    "    return hits"
   ]
  },
  {
   "cell_type": "code",
   "execution_count": 182,
   "metadata": {
    "collapsed": false
   },
   "outputs": [],
   "source": [
    "total_hits=[]\n",
    "for i in range (3):\n",
    "    kmer=p[i*8:i*8+8]\n",
    "    total_hits=total_hits+(naive(kmer, genome))\n"
   ]
  },
  {
   "cell_type": "code",
   "execution_count": 184,
   "metadata": {
    "collapsed": false
   },
   "outputs": [
    {
     "data": {
      "text/plain": [
       "[56922,\n",
       " 57056,\n",
       " 83720,\n",
       " 84641,\n",
       " 147558,\n",
       " 160729,\n",
       " 191452,\n",
       " 262042,\n",
       " 364263,\n",
       " 657496,\n",
       " 681737,\n",
       " 717706,\n",
       " 725061,\n",
       " 18878,\n",
       " 56930,\n",
       " 160170,\n",
       " 262050,\n",
       " 273677,\n",
       " 282012,\n",
       " 364271,\n",
       " 421229,\n",
       " 429307,\n",
       " 465655,\n",
       " 472642,\n",
       " 489446,\n",
       " 551142,\n",
       " 621370,\n",
       " 657504,\n",
       " 717714,\n",
       " 724935,\n",
       " 18749,\n",
       " 19182,\n",
       " 22413,\n",
       " 22548,\n",
       " 23019,\n",
       " 23154,\n",
       " 43143,\n",
       " 56938,\n",
       " 67379,\n",
       " 83736,\n",
       " 83879,\n",
       " 84657,\n",
       " 84791,\n",
       " 108126,\n",
       " 129010,\n",
       " 147574,\n",
       " 160745,\n",
       " 175326,\n",
       " 186012,\n",
       " 187671,\n",
       " 191468,\n",
       " 205397,\n",
       " 251106,\n",
       " 251240,\n",
       " 262058,\n",
       " 273685,\n",
       " 282020,\n",
       " 322751,\n",
       " 364279,\n",
       " 364412,\n",
       " 421237,\n",
       " 429315,\n",
       " 454348,\n",
       " 465663,\n",
       " 471982,\n",
       " 480517,\n",
       " 480658,\n",
       " 523101,\n",
       " 551150,\n",
       " 551843,\n",
       " 572212,\n",
       " 588494,\n",
       " 595557,\n",
       " 613475,\n",
       " 621507,\n",
       " 632321,\n",
       " 635947,\n",
       " 646504,\n",
       " 651539,\n",
       " 657512,\n",
       " 674072,\n",
       " 681753,\n",
       " 707167,\n",
       " 717722,\n",
       " 719434,\n",
       " 724943,\n",
       " 746636,\n",
       " 747375,\n",
       " 747511,\n",
       " 760505]"
      ]
     },
     "execution_count": 184,
     "metadata": {},
     "output_type": "execute_result"
    }
   ],
   "source": [
    "total_hits"
   ]
  },
  {
   "cell_type": "code",
   "execution_count": 269,
   "metadata": {
    "collapsed": true
   },
   "outputs": [],
   "source": [
    "import bisect\n",
    "\n",
    "class SubseqIndex(object):\n",
    "    \"\"\"Holds a subsequence index for a text T\"\"\"\n",
    "    \n",
    "    def __init__(self, t, k, ival):\n",
    "        self.k=k\n",
    "        self.ival=ival\n",
    "        self.index=[]\n",
    "        self.span=(k-1)*ival+1 #number of characters spanned by a kmer given ival\n",
    "        for i in range (len(t)-self.span+1):\n",
    "            self.index.append((t[i:i+self.span:ival], i))\n",
    "        self.index.sort()\n",
    "    \n",
    "    def query(self, p):\n",
    "        subseq=p[:self.span:self.ival]\n",
    "        #print subseq\n",
    "        i=bisect.bisect_left(self.index, (subseq, -1))\n",
    "        hits=[]\n",
    "        while i < len(self.index):\n",
    "            if self.index[i][0] != subseq:\n",
    "                \n",
    "                break\n",
    "            hits.append(self.index[i][1]) #appends the position of the kmer hit in the index\n",
    "            i += 1\n",
    "        return hits\n",
    "        \n",
    "            "
   ]
  },
  {
   "cell_type": "code",
   "execution_count": 270,
   "metadata": {
    "collapsed": false
   },
   "outputs": [],
   "source": [
    "subseq_genome_index=SubseqIndex(chr1,8,3)"
   ]
  },
  {
   "cell_type": "code",
   "execution_count": 276,
   "metadata": {
    "collapsed": true
   },
   "outputs": [],
   "source": [
    "def test_extended_match(pmer, t,mm=2):\n",
    "    mismatches=0\n",
    "    for i in range(len(pmer)):\n",
    "        if pmer[i]!= t[i]:\n",
    "            mismatches+=1\n",
    "            if mismatches > mm:\n",
    "                return False, 4\n",
    "    return True, mismatches"
   ]
  },
  {
   "cell_type": "code",
   "execution_count": 279,
   "metadata": {
    "collapsed": true
   },
   "outputs": [],
   "source": [
    "def pigeon_hole_sub(p,genome,index, mm=2):\n",
    "    k=index.k\n",
    "    ival=index.ival\n",
    "    span=index.span\n",
    "    print 'span', span, k, ival\n",
    "    pmer=[]\n",
    "    hits={}\n",
    "    total_hits=0\n",
    "    for i in range (3):\n",
    "        pmer=p[i:i+span]\n",
    "        #print pmer\n",
    "        index_hits=index.query(pmer)\n",
    "        total_hits += len(index_hits)\n",
    "        for hit in index_hits:\n",
    "            #print hit\n",
    "            start=hit-i\n",
    "            if start >= 0 and start+span <= len(genome): #again to make sure it is a legal start!\n",
    "                match, mismatches=test_extended_match(pmer, genome[start: start+len(pmer)], mm)\n",
    "                if match:\n",
    "                    hits[start]=(genome[start:start+len(pmer)], mismatches)\n",
    "    return hits, total_hits\n",
    "\n",
    "            \n",
    "            \n",
    "        \n",
    "        \n",
    "        "
   ]
  },
  {
   "cell_type": "code",
   "execution_count": 281,
   "metadata": {
    "collapsed": false
   },
   "outputs": [
    {
     "name": "stdout",
     "output_type": "stream",
     "text": [
      "span 22 8 3\n"
     ]
    },
    {
     "data": {
      "text/plain": [
       "79"
      ]
     },
     "execution_count": 281,
     "metadata": {},
     "output_type": "execute_result"
    }
   ],
   "source": [
    "pigeon_hole_sub('GGCGCGGTGGCTCACGCCTGTAAT', chr1, subseq_genome_index)[1]"
   ]
  },
  {
   "cell_type": "code",
   "execution_count": 274,
   "metadata": {
    "collapsed": false
   },
   "outputs": [
    {
     "data": {
      "text/plain": [
       "[56922,\n",
       " 67486,\n",
       " 83863,\n",
       " 84641,\n",
       " 84775,\n",
       " 124024,\n",
       " 147558,\n",
       " 191452,\n",
       " 199607,\n",
       " 262042,\n",
       " 262174,\n",
       " 273669,\n",
       " 322735,\n",
       " 364263,\n",
       " 421354,\n",
       " 454332,\n",
       " 465647,\n",
       " 471966,\n",
       " 472634,\n",
       " 489019,\n",
       " 558456,\n",
       " 579737,\n",
       " 596898,\n",
       " 635931,\n",
       " 651523,\n",
       " 657496,\n",
       " 658702,\n",
       " 681737,\n",
       " 707151,\n",
       " 712449,\n",
       " 717706,\n",
       " 719418,\n",
       " 719557,\n",
       " 746620,\n",
       " 747359]"
      ]
     },
     "execution_count": 274,
     "metadata": {},
     "output_type": "execute_result"
    }
   ],
   "source": [
    "subseq_genome_index.query(\"GGCGCGGTGGCTCACGCCTGTA\")"
   ]
  },
  {
   "cell_type": "code",
   "execution_count": null,
   "metadata": {
    "collapsed": true
   },
   "outputs": [],
   "source": [
    "readFastq('/Users/venturaa/Google Drive/Computational')"
   ]
  }
 ],
 "metadata": {
  "kernelspec": {
   "display_name": "Python 2",
   "language": "python",
   "name": "python2"
  },
  "language_info": {
   "codemirror_mode": {
    "name": "ipython",
    "version": 2
   },
   "file_extension": ".py",
   "mimetype": "text/x-python",
   "name": "python",
   "nbconvert_exporter": "python",
   "pygments_lexer": "ipython2",
   "version": "2.7.10"
  }
 },
 "nbformat": 4,
 "nbformat_minor": 0
}
