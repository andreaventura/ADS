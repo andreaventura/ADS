{
 "cells": [
  {
   "cell_type": "code",
   "execution_count": 81,
   "metadata": {
    "collapsed": false
   },
   "outputs": [],
   "source": [
    "def overlaps(a,b,min_length=3):\n",
    "    if len(b)< min_length:\n",
    "        return 0, 'string b is too short!'\n",
    "    if len(a) < min_length:\n",
    "        return 0, 'string a is too short!'\n",
    "    start = len(a)-len(b)\n",
    "\n",
    "    #print 'start', start\n",
    "    #print a[start:]\n",
    "    match_len=0\n",
    "    while len(a)-start > min_length:\n",
    "        for pa in range(start,len(a)):\n",
    "            match_len=0\n",
    "            #print 'testing: %s of string %s' % (a[pa], a)\n",
    "            for pb in range(0,len(b)):\n",
    "                match=True\n",
    "                if a[pa+pb]!=b[pb]:\n",
    "                    match=False\n",
    "                    break\n",
    "                match_len+=1\n",
    "            if match: \n",
    "                return match_len, a[pa:]\n",
    "        start+=1\n",
    "    return 0, 'no match'"
   ]
  },
  {
   "cell_type": "code",
   "execution_count": 83,
   "metadata": {
    "collapsed": false
   },
   "outputs": [],
   "source": [
    "def fast_overlaps(a,b,min_length=3):\n",
    "    if len(b)< min_length:\n",
    "        return 0, 'string b is too short!'\n",
    "    if len(a) < min_length:\n",
    "        return 0, 'string a is too short!'\n",
    "    start = len(a)-len(b)\n",
    "    while True:\n",
    "        if b.startswith(a[start:]):\n",
    "            return len(a[start:]), a[start:]\n",
    "        start += 1\n",
    "        "
   ]
  },
  {
   "cell_type": "code",
   "execution_count": 65,
   "metadata": {
    "collapsed": false
   },
   "outputs": [],
   "source": [
    "def readGenome(filename):\n",
    "    genome=''\n",
    "    with open(filename,'r') as fh:\n",
    "        for line in fh:\n",
    "            if not line[0]=='>':\n",
    "                genome += line.rstrip()\n",
    "    return genome\n",
    "\n",
    "chr1=readGenome('chr1.GRCh38.excerpt.fasta') #load genome"
   ]
  },
  {
   "cell_type": "code",
   "execution_count": 37,
   "metadata": {
    "collapsed": true
   },
   "outputs": [],
   "source": [
    "def official_overlap(a, b, min_length=3):\n",
    "    \"\"\" Return length of longest suffix of 'a' matching\n",
    "        a prefix of 'b' that is at least 'min_length'\n",
    "        characters long.  If no such overlap exists,\n",
    "        return 0. \"\"\"\n",
    "    if len(b)< min_length:\n",
    "        return 0\n",
    "    if len(a) < min_length:\n",
    "        return 0\n",
    "    start = 0  # start all the way at the left\n",
    "    print min_length\n",
    "    while True:\n",
    "        start = a.find(b[:min_length], start)  # look for b's suffx in a\n",
    "        if start == -1:  # no more occurrences to right\n",
    "            return 0\n",
    "        # found occurrence; check for full suffix/prefix match\n",
    "        if b.startswith(a[start:]):\n",
    "            return len(a)-start\n",
    "        start += 1  # move just past previous match"
   ]
  },
  {
   "cell_type": "code",
   "execution_count": 38,
   "metadata": {
    "collapsed": true
   },
   "outputs": [],
   "source": [
    "a=\"Andrea Ventura Ventura\"\n",
    "b=\"Ventura\""
   ]
  },
  {
   "cell_type": "code",
   "execution_count": 36,
   "metadata": {
    "collapsed": false
   },
   "outputs": [
    {
     "data": {
      "text/plain": [
       "0"
      ]
     },
     "execution_count": 36,
     "metadata": {},
     "output_type": "execute_result"
    }
   ],
   "source": [
    "official_overlap(a,b,20)"
   ]
  },
  {
   "cell_type": "code",
   "execution_count": 33,
   "metadata": {
    "collapsed": false
   },
   "outputs": [
    {
     "data": {
      "text/plain": [
       "15"
      ]
     },
     "execution_count": 33,
     "metadata": {},
     "output_type": "execute_result"
    }
   ],
   "source": [
    "a.find(b[:30], 8)"
   ]
  },
  {
   "cell_type": "code",
   "execution_count": 25,
   "metadata": {
    "collapsed": false
   },
   "outputs": [
    {
     "data": {
      "text/plain": [
       "'entura Ven'"
      ]
     },
     "execution_count": 25,
     "metadata": {},
     "output_type": "execute_result"
    }
   ],
   "source": [
    "b[:10]"
   ]
  },
  {
   "cell_type": "code",
   "execution_count": null,
   "metadata": {
    "collapsed": true
   },
   "outputs": [],
   "source": []
  },
  {
   "cell_type": "code",
   "execution_count": 92,
   "metadata": {
    "collapsed": false
   },
   "outputs": [
    {
     "name": "stdout",
     "output_type": "stream",
     "text": [
      "799010\n",
      "0.264559030533\n",
      "Fast overlap:\n",
      "799010\n",
      "0.000541925430298\n",
      "official overlap\n",
      "799010\n",
      "0.00168490409851\n"
     ]
    }
   ],
   "source": [
    "import time\n",
    "\n",
    "\n",
    "a=chr1[1:]\n",
    "b=chr1[990:]\n",
    "s=time.time()\n",
    "print overlaps(a,b)[0]\n",
    "print time.time()-s\n",
    "print 'Fast overlap:'\n",
    "s=time.time()\n",
    "print fast_overlaps(a,b)[0]\n",
    "print time.time()-s\n",
    "s=time.time()\n",
    "print 'official overlap'\n",
    "print official_overlap(a,b)\n",
    "print time.time()-s\n"
   ]
  },
  {
   "cell_type": "code",
   "execution_count": 29,
   "metadata": {
    "collapsed": false
   },
   "outputs": [
    {
     "data": {
      "text/plain": [
       "[0, 1, 2, 3, 4, 5, 6, 7, 8, 9, 10, 11, 12, 13]"
      ]
     },
     "execution_count": 29,
     "metadata": {},
     "output_type": "execute_result"
    }
   ],
   "source": [
    "start=0\n",
    "range(start, len(a))"
   ]
  },
  {
   "cell_type": "code",
   "execution_count": 72,
   "metadata": {
    "collapsed": false
   },
   "outputs": [
    {
     "data": {
      "text/plain": [
       "800000"
      ]
     },
     "execution_count": 72,
     "metadata": {},
     "output_type": "execute_result"
    }
   ],
   "source": [
    "len(chr1)"
   ]
  },
  {
   "cell_type": "code",
   "execution_count": 85,
   "metadata": {
    "collapsed": true
   },
   "outputs": [],
   "source": [
    "def official_overlap(a, b, min_length=3):\n",
    "    \"\"\" Return length of longest suffix of 'a' matching\n",
    "        a prefix of 'b' that is at least 'min_length'\n",
    "        characters long.  If no such overlap exists,\n",
    "        return 0. \"\"\"\n",
    "    start = 0  # start all the way at the left\n",
    "    while True:\n",
    "        start = a.find(b[:min_length], start)  # look for b's suffx in a\n",
    "        if start == -1:  # no more occurrences to right\n",
    "            return 0\n",
    "        # found occurrence; check for full suffix/prefix match\n",
    "        if b.startswith(a[start:]):\n",
    "            return len(a)-start\n",
    "        start += 1  # move just past previous match"
   ]
  },
  {
   "cell_type": "code",
   "execution_count": null,
   "metadata": {
    "collapsed": true
   },
   "outputs": [],
   "source": []
  }
 ],
 "metadata": {
  "kernelspec": {
   "display_name": "Python 2",
   "language": "python",
   "name": "python2"
  },
  "language_info": {
   "codemirror_mode": {
    "name": "ipython",
    "version": 2
   },
   "file_extension": ".py",
   "mimetype": "text/x-python",
   "name": "python",
   "nbconvert_exporter": "python",
   "pygments_lexer": "ipython2",
   "version": "2.7.10"
  }
 },
 "nbformat": 4,
 "nbformat_minor": 0
}
