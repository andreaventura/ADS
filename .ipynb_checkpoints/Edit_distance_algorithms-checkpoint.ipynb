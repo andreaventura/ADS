{
 "cells": [
  {
   "cell_type": "code",
   "execution_count": 139,
   "metadata": {
    "collapsed": false
   },
   "outputs": [],
   "source": [
    "import numpy\n",
    "import time\n",
    "\n",
    "def getDelta(x,y):\n",
    "    return x!=y \n",
    "    #if x==y:\n",
    "    #    return 0\n",
    "    #return 1\n",
    "\n",
    "def editDist(a,b):\n",
    "    start_time=time.time()\n",
    "    mat=numpy.zeros((len(a)+1, len(b)+1), int)\n",
    "    #initialize matrix\n",
    "    for i in range (len(a)+1):\n",
    "        mat[i,0]=i\n",
    "    for i in range (len(b)+1):\n",
    "        mat[0,i]=i   \n",
    "\n",
    "    \n",
    "    for row in range(1,len(a)+1):\n",
    "        for col in range(1,len(b)+1):\n",
    "            delt=getDelta(a[row-1], b[col-1])+mat[row-1,col-1]\n",
    "            ins_a=mat[row,col-1]+1\n",
    "            ins_b=mat[row-1,col]+1\n",
    "            #print 'delta=%d insert_row=%d, insert_col=%d' %(delt, ins_a, ins_b)\n",
    "            #now insert minimum valuea\n",
    "            mat[row,col]=min(delt,ins_a,ins_b)\n",
    "    #format the array so that it also has the  \n",
    "    \n",
    "    return mat "
   ]
  },
  {
   "cell_type": "code",
   "execution_count": 216,
   "metadata": {
    "collapsed": false
   },
   "outputs": [
    {
     "data": {
      "text/plain": [
       "array([[' ', '-', 'A', 'n', 't', 'o', 'n', 'i', 'o'],\n",
       "       ['-', '0', '1', '2', '3', '4', '5', '6', '7'],\n",
       "       ['A', '1', '0', '1', '2', '3', '4', '5', '6'],\n",
       "       ['n', '2', '1', '0', '1', '2', '3', '4', '5'],\n",
       "       ['d', '3', '2', '1', '1', '2', '3', '4', '5'],\n",
       "       ['r', '4', '3', '2', '2', '2', '3', '4', '5'],\n",
       "       ['e', '5', '4', '3', '3', '3', '3', '4', '5'],\n",
       "       ['a', '6', '5', '4', '4', '4', '4', '4', '5']], \n",
       "      dtype='|S21')"
      ]
     },
     "execution_count": 216,
     "metadata": {},
     "output_type": "execute_result"
    }
   ],
   "source": [
    "a=\"Andrea\"\n",
    "b=\"Antonio\"\n",
    "\n",
    "rowname=list(' -'+a)\n",
    "colname=list('-'+b)\n",
    "mat=editDist(a,b)\n",
    "mat=numpy.vstack([colname, mat])\n",
    "mat=numpy.insert(mat,0,rowname,1)\n",
    "mat"
   ]
  },
  {
   "cell_type": "code",
   "execution_count": 217,
   "metadata": {
    "collapsed": true
   },
   "outputs": [],
   "source": [
    "import numpy\n",
    "import time\n",
    "\n",
    "def getDelta(x,y):\n",
    "    return x!=y \n",
    "    #if x==y:\n",
    "    #    return 0\n",
    "    #return 1\n",
    "\n",
    "def local_editDist(a,b):\n",
    "    start_time=time.time()\n",
    "    mat=numpy.zeros((len(a)+1, len(b)+1), int)\n",
    "    #initialize matrix\n",
    "    for i in range (len(a)+1):\n",
    "        mat[i,0]=i\n",
    "    for i in range (len(b)+1):\n",
    "        mat[0,i]=0   \n",
    "\n",
    "    \n",
    "    for row in range(1,len(a)+1):\n",
    "        for col in range(1,len(b)+1):\n",
    "            delt=getDelta(a[row-1], b[col-1])+mat[row-1,col-1]\n",
    "            ins_a=mat[row,col-1]+1\n",
    "            ins_b=mat[row-1,col]+1\n",
    "            #print 'delta=%d insert_row=%d, insert_col=%d' %(delt, ins_a, ins_b)\n",
    "            #now insert minimum valuea\n",
    "            mat[row,col]=min(delt,ins_a,ins_b)\n",
    "    #format the array so that it also has the  \n",
    "    \n",
    "    return mat \n",
    "\n",
    "    \n"
   ]
  },
  {
   "cell_type": "code",
   "execution_count": 228,
   "metadata": {
    "collapsed": false
   },
   "outputs": [
    {
     "data": {
      "text/plain": [
       "array([[' ', '-', 'A', 'n', 'd', 'r', 'e', 'a', ' ', 'V', 'e', 'n', 't'],\n",
       "       ['-', '0', '0', '0', '0', '0', '0', '0', '0', '0', '0', '0', '0'],\n",
       "       ['d', '1', '1', '1', '0', '1', '1', '1', '1', '1', '1', '1', '1'],\n",
       "       ['e', '2', '2', '2', '1', '1', '1', '2', '2', '2', '1', '2', '2'],\n",
       "       ['a', '3', '3', '3', '2', '2', '2', '1', '2', '3', '2', '2', '3'],\n",
       "       [' ', '4', '4', '4', '3', '3', '3', '2', '1', '2', '3', '3', '3'],\n",
       "       ['V', '5', '5', '5', '4', '4', '4', '3', '2', '1', '2', '3', '4'],\n",
       "       ['e', '6', '6', '6', '5', '5', '4', '4', '3', '2', '1', '2', '3'],\n",
       "       ['n', '7', '7', '6', '6', '6', '5', '5', '4', '3', '2', '1', '2']], \n",
       "      dtype='|S21')"
      ]
     },
     "execution_count": 228,
     "metadata": {},
     "output_type": "execute_result"
    }
   ],
   "source": [
    "b=\"Andrea Vent\"\n",
    "a='dea Ven'\n",
    "mat=local_editDist(a,b)\n",
    "rowname=list(' -'+a)\n",
    "colname=list('-'+b)\n",
    "\n",
    "mat=numpy.vstack([colname, mat])\n",
    "mat=numpy.insert(mat,0,rowname,1)\n",
    "mat"
   ]
  },
  {
   "cell_type": "code",
   "execution_count": null,
   "metadata": {
    "collapsed": true
   },
   "outputs": [],
   "source": []
  }
 ],
 "metadata": {
  "kernelspec": {
   "display_name": "Python 2",
   "language": "python",
   "name": "python2"
  },
  "language_info": {
   "codemirror_mode": {
    "name": "ipython",
    "version": 2
   },
   "file_extension": ".py",
   "mimetype": "text/x-python",
   "name": "python",
   "nbconvert_exporter": "python",
   "pygments_lexer": "ipython2",
   "version": "2.7.10"
  }
 },
 "nbformat": 4,
 "nbformat_minor": 0
}
