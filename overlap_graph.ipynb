{
 "cells": [
  {
   "cell_type": "code",
   "execution_count": 40,
   "metadata": {
    "collapsed": true
   },
   "outputs": [],
   "source": [
    "import time\n",
    "def fast_overlaps(a,b,min_length=3):\n",
    "    if len(b)< min_length:\n",
    "        return 0, 'string b is too short!'\n",
    "    if len(a) < min_length:\n",
    "        return 0, 'string a is too short!'\n",
    "    start = 0\n",
    "    while len(a[start:]) >= min_length:\n",
    "        if b.startswith(a[start:]):\n",
    "            return len(a[start:])\n",
    "        start += 1\n",
    "    return -1, 'no overlap'    \n",
    "\n",
    "def readFastq(filename):\n",
    "    sequences=[]\n",
    "    qualities=[]\n",
    "    with open(filename,'r') as fh:\n",
    "        while True:\n",
    "            fh.readline()\n",
    "            seq=fh.readline().rstrip()\n",
    "            fh.readline()\n",
    "            qual=fh.readline().rstrip()\n",
    "            if len(seq)==0:\n",
    "                break\n",
    "            sequences.append(seq)\n",
    "            qualities.append(qual)\n",
    "    return sequences, qualities\n",
    "\n",
    "def indexSuffix(reads, k=30):\n",
    "    suffx_dic={}\n",
    "    for read in reads:\n",
    "        suffix=read[-k:] #get the suffix of length k\n",
    "        #add the suffix as a key to the dictionary\n",
    "        suffx_dic[suffix]=set()\n",
    "        #populate with the corresponding kmers\n",
    "    for i in range(len(reads)):\n",
    "        read = reads[i]\n",
    "        for j in range (len(read)-k+1): #remove '+1' if you want to avoid to add the suffix itself\n",
    "            kmer=read[j:j+k]\n",
    "            if kmer in suffx_dic:\n",
    "                suffx_dic[kmer].add(i)\n",
    "    return suffx_dic"
   ]
  },
  {
   "cell_type": "code",
   "execution_count": 2,
   "metadata": {
    "collapsed": true
   },
   "outputs": [],
   "source": [
    "reads,qualities=readFastq(\"/Users/venturaa/Google Drive/Computation files/ADS_course/ERR266411_1.for_asm.fastq\")"
   ]
  },
  {
   "cell_type": "code",
   "execution_count": 50,
   "metadata": {
    "collapsed": true
   },
   "outputs": [],
   "source": [
    "def official_overlap(a, b, min_length=3):\n",
    "    \"\"\" Return length of longest suffix of 'a' matching\n",
    "        a prefix of 'b' that is at least 'min_length'\n",
    "        characters long.  If no such overlap exists,\n",
    "        return 0. \"\"\"\n",
    "    # if len(b)< min_length:\n",
    "    #    return 0\n",
    "    #if len(a) < min_length:\n",
    "    #    return 0\n",
    "    start = 0  # start all the way at the left\n",
    "    while True:\n",
    "        start = a.find(b[:min_length], start)  # look for b's suffx in a\n",
    "        if start == -1:  # no more occurrences to right\n",
    "            return 0\n",
    "        # found occurrence; check for full suffix/prefix match\n",
    "        if b.startswith(a[start:]):\n",
    "            return len(a)-start\n",
    "        start += 1  # move just past previous match"
   ]
  },
  {
   "cell_type": "code",
   "execution_count": 51,
   "metadata": {
    "collapsed": true
   },
   "outputs": [],
   "source": [
    "def overlap_graph(reads, k=30):\n",
    "    dic = indexSuffix(reads, k)  # first create the suffix dictionary and populate.\n",
    "    ''' each key in dic is the suffix of at least one read. to each key is associated a set of indexes\n",
    "    pointing to the reads in which a kmer is identical to the key. this way, given a suffix it is easy to know in which\n",
    "    reads to look for an overlap\n",
    "    and which reads can be ignored.'''\n",
    "\n",
    "    #create a list in which each index corresponds to a read, and the associated set corresponds to the overlapping reads\n",
    "    graph = []\n",
    "    read_index=0\n",
    "    for read in reads:\n",
    "        overlaps=[]\n",
    "        suffix=read[-k:]\n",
    "        candidate_reads=dic[suffix] #indexes of the reads that contain the sequence corresponding to the suffix\n",
    "        for candidate in candidate_reads:\n",
    "            if read_index != candidate:   #to avoid finding overlaps to itself!\n",
    "                hit=official_overlap(read, reads[candidate], k)\n",
    "                if hit > 0:\n",
    "                    overlaps.append((candidate, hit)) #tuple containing the index of the read and the length of the match\n",
    "                    #print 'overlap found between: \\nread %d %s\\nread %d %s' %(read_index,reads[read_index],candidate,reads[candidate])\n",
    "        graph.append(overlaps) #add to the graph the overlaps found (if any) for the read examined\n",
    "        read_index += 1\n",
    "    return graph\n"
   ]
  },
  {
   "cell_type": "code",
   "execution_count": 54,
   "metadata": {
    "collapsed": true
   },
   "outputs": [],
   "source": [
    "def my_overlap_graph(reads, k=30):\n",
    "    dic = indexSuffix(reads, k)  # first create the suffix dictionary and populate.\n",
    "    ''' each key in dic is the suffix of at least one read. to each key is associated a set of indexes\n",
    "    pointing to the reads in which a kmer is identical to the key. this way, given a suffix it is easy to know in which\n",
    "    reads to look for an overlap\n",
    "    and which reads can be ignored.'''\n",
    "\n",
    "    #create a list in which each index corresponds to a read, and the associated set corresponds to the overlapping reads\n",
    "    graph = []\n",
    "    read_index=0\n",
    "    for read in reads:\n",
    "        overlaps=[]\n",
    "        suffix=read[-k:]\n",
    "        candidate_reads=dic[suffix] #indexes of the reads that contain the sequence corresponding to the suffix\n",
    "        for candidate in candidate_reads:\n",
    "            hit=fast_overlaps(read, reads[candidate], k)\n",
    "            if hit >= 0 & hit != len(read): #to avoid matches to same read\n",
    "                 overlaps.append((candidate, hit)) #tuple containing the index of the read and the length of the match\n",
    "                #print 'overlap found between: \\nread %d %s\\nread %d %s' %(read_index,reads[read_index],candidate,reads[candidate])\n",
    "        graph.append(overlaps) #add to the graph the overlaps found (if any) for the read examined\n",
    "        read_index += 1\n",
    "    return graph"
   ]
  },
  {
   "cell_type": "code",
   "execution_count": 55,
   "metadata": {
    "collapsed": false
   },
   "outputs": [
    {
     "name": "stdout",
     "output_type": "stream",
     "text": [
      "[[(2, 98), (11, 99)], [], []] 9.72167897224\n"
     ]
    }
   ],
   "source": [
    "t0=time.time()\n",
    "overlap=overlap_graph(reads,30)\n",
    "t1=time.time()-t0\n",
    "print overlap[0:3], t1"
   ]
  },
  {
   "cell_type": "code",
   "execution_count": 56,
   "metadata": {
    "collapsed": false
   },
   "outputs": [
    {
     "data": {
      "text/plain": [
       "10000"
      ]
     },
     "execution_count": 56,
     "metadata": {},
     "output_type": "execute_result"
    }
   ],
   "source": [
    "len(overlap)"
   ]
  },
  {
   "cell_type": "code",
   "execution_count": 61,
   "metadata": {
    "collapsed": false
   },
   "outputs": [
    {
     "name": "stdout",
     "output_type": "stream",
     "text": [
      "904746\n"
     ]
    }
   ],
   "source": [
    "#calculate number of reads overlaps (number of edges)\n",
    "edges=[]\n",
    "for node in overlap:\n",
    "    edges.append(len(node))\n",
    "print sum(edges)"
   ]
  },
  {
   "cell_type": "code",
   "execution_count": 63,
   "metadata": {
    "collapsed": false
   },
   "outputs": [],
   "source": [
    "#calculate the number of nodes with at least 1 edge\n",
    "with_edges = 0\n",
    "no_edges =0\n",
    "for edge in edges:\n",
    "    if edge > 0:\n",
    "        with_edges += 1\n",
    "    else: \n",
    "        no_edges += 1"
   ]
  },
  {
   "cell_type": "code",
   "execution_count": 67,
   "metadata": {
    "collapsed": false
   },
   "outputs": [
    {
     "name": "stdout",
     "output_type": "stream",
     "text": [
      "reads with edges:\t7161 \n",
      "reads without edges:\t2839\n"
     ]
    }
   ],
   "source": [
    "print 'reads with edges:\\t{} \\nreads without edges:\\t{}'.format(with_edges, no_edges)"
   ]
  },
  {
   "cell_type": "code",
   "execution_count": null,
   "metadata": {
    "collapsed": true
   },
   "outputs": [],
   "source": []
  }
 ],
 "metadata": {
  "kernelspec": {
   "display_name": "Python 2",
   "language": "python",
   "name": "python2"
  },
  "language_info": {
   "codemirror_mode": {
    "name": "ipython",
    "version": 2
   },
   "file_extension": ".py",
   "mimetype": "text/x-python",
   "name": "python",
   "nbconvert_exporter": "python",
   "pygments_lexer": "ipython2",
   "version": "2.7.10"
  }
 },
 "nbformat": 4,
 "nbformat_minor": 0
}
